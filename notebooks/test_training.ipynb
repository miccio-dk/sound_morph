{
 "cells": [
  {
   "cell_type": "code",
   "execution_count": 7,
   "id": "convenient-attack",
   "metadata": {},
   "outputs": [
    {
     "name": "stdout",
     "output_type": "stream",
     "text": [
      "The autoreload extension is already loaded. To reload it, use:\n",
      "  %reload_ext autoreload\n"
     ]
    }
   ],
   "source": [
    "%load_ext autoreload\n",
    "%autoreload 2"
   ]
  },
  {
   "cell_type": "code",
   "execution_count": 1,
   "id": "illegal-jumping",
   "metadata": {},
   "outputs": [
    {
     "name": "stderr",
     "output_type": "stream",
     "text": [
      "Global seed set to 42\n"
     ]
    },
    {
     "data": {
      "text/plain": [
       "42"
      ]
     },
     "execution_count": 1,
     "metadata": {},
     "output_type": "execute_result"
    }
   ],
   "source": [
    "import sys, os\n",
    "sys.path.append('..')\n",
    "\n",
    "import numpy as np\n",
    "import librosa as lr\n",
    "import torch\n",
    "import IPython.display as ipd\n",
    "import matplotlib.pyplot as plt\n",
    "import pytorch_lightning as pl\n",
    "\n",
    "from scipy.signal.windows import hann\n",
    "from pytorch_lightning.loggers import TensorBoardLogger\n",
    "from pytorch_lightning.callbacks import LearningRateMonitor, EarlyStopping\n",
    "\n",
    "from datasets.nsynth_datamodule import NsynthDataModule\n",
    "from models.cvae_resnet import CvaeResnet\n",
    "from models.cvae_inception import CvaeInception\n",
    "\n",
    "pl.seed_everything(42)"
   ]
  },
  {
   "cell_type": "code",
   "execution_count": 30,
   "id": "nuclear-relevance",
   "metadata": {},
   "outputs": [],
   "source": [
    "### CONFIGS\n",
    "\n",
    "train_configs = {\n",
    "    'descr': '1pitch_1gpu',\n",
    "    'num_workers': 16,\n",
    "    'batch_size': 28,\n",
    "    'max_epochs': 5000,\n",
    "    'patience': 100,\n",
    "    'trainer_kwargs': {\n",
    "        'gpus': '0',\n",
    "        'accelerator': None,\n",
    "        'num_nodes': 1,\n",
    "        'precision': 32\n",
    "    }\n",
    "}\n",
    "\n",
    "ds_configs = {\n",
    "    'dataset_path': '/data/riccardo_datasets',\n",
    "    'feature': 'spec',\n",
    "    'feature_params': {\n",
    "        'win_length': 256,\n",
    "        'hop_length': 64,\n",
    "        'window': hann(256).tolist()\n",
    "    },\n",
    "    'n_fft': 510,\n",
    "    'ds_kwargs': {\n",
    "        'pitches': [60],\n",
    "        #'instrument_families': [0],\n",
    "        'sr': 16000,\n",
    "        'duration': 1.02\n",
    "    }\n",
    "}\n",
    "\n",
    "m_configs_incept = {\n",
    "    'lr': 5e-4,\n",
    "    'lr_scheduler': {\n",
    "        'factor': 10**(-1/4), \n",
    "        'patience': 50,\n",
    "        'cooldown': 20,\n",
    "        'min_lr': 1e-5\n",
    "    },\n",
    "    'c_labels': ['pitch'],\n",
    "    'kl_coeff': 1e-4,\n",
    "    'db_coeff': 1e-4,\n",
    "    'latent_size': 32,\n",
    "    'channel_size': 2,\n",
    "    'use_inception': True,\n",
    "    'repeat_per_block': 1,\n",
    "    'dense_size': 256,\n",
    "}\n",
    "\n",
    "configs = {\n",
    "    'train': train_configs,\n",
    "    'dataset': ds_configs,\n",
    "    'model': m_configs_incept\n",
    "}"
   ]
  },
  {
   "cell_type": "code",
   "execution_count": 31,
   "id": "american-garage",
   "metadata": {},
   "outputs": [],
   "source": [
    "import json\n",
    "with open('../configs/test_1gpu.json', 'w') as fp:\n",
    "    json.dump(configs, fp, indent=2)"
   ]
  },
  {
   "cell_type": "code",
   "execution_count": 10,
   "id": "electrical-proposition",
   "metadata": {},
   "outputs": [],
   "source": [
    "# init model\n",
    "model = CvaeInception(m_configs_incept)"
   ]
  },
  {
   "cell_type": "code",
   "execution_count": 11,
   "id": "adaptive-paradise",
   "metadata": {},
   "outputs": [],
   "source": [
    "# logger\n",
    "log_name = '{}_{}'.format(CvaeInception.model_name, )\n",
    "logger = TensorBoardLogger('logs', name=log_name)"
   ]
  },
  {
   "cell_type": "code",
   "execution_count": 12,
   "id": "tender-nerve",
   "metadata": {},
   "outputs": [
    {
     "name": "stdout",
     "output_type": "stream",
     "text": [
      "Caching data: /data/riccardo_datasets/nsynth-train/examples.json\n",
      "Data: (289205, 13)\n",
      "Caching data: /data/riccardo_datasets/nsynth-valid/examples.json\n",
      "Data: (12678, 13)\n",
      "Caching data: /data/riccardo_datasets/nsynth-test/examples.json\n"
     ]
    },
    {
     "name": "stderr",
     "output_type": "stream",
     "text": [
      "/home/rmicci18/miniconda3/envs/sound_morph/lib/python3.8/site-packages/torch/functional.py:515: UserWarning: The function torch.rfft is deprecated and will be removed in a future PyTorch release. Use the new torch.fft module functions, instead, by importing torch.fft and calling torch.fft.fft or torch.fft.rfft. (Triggered internally at  /opt/conda/conda-bld/pytorch_1607369981906/work/aten/src/ATen/native/SpectralOps.cpp:590.)\n",
      "  return _VF.stft(input, n_fft, hop_length, win_length, window,  # type: ignore\n"
     ]
    },
    {
     "name": "stdout",
     "output_type": "stream",
     "text": [
      "Data: (4096, 13)\n"
     ]
    }
   ],
   "source": [
    "# init data loader\n",
    "dm = NsynthDataModule(ds_configs, num_workers=num_workers, batch_size=batch_size)\n",
    "dm.setup()"
   ]
  },
  {
   "cell_type": "code",
   "execution_count": 11,
   "id": "neither-dietary",
   "metadata": {},
   "outputs": [
    {
     "name": "stderr",
     "output_type": "stream",
     "text": [
      "GPU available: True, used: True\n",
      "TPU available: None, using: 0 TPU cores\n",
      "LOCAL_RANK: 0 - CUDA_VISIBLE_DEVICES: [0,1,2,3]\n"
     ]
    }
   ],
   "source": [
    "# callbacks\n",
    "early_stop = EarlyStopping(monitor='val_loss', patience=patience)\n",
    "lr_monitor = LearningRateMonitor(logging_interval='epoch')\n",
    "\n",
    "# train!\n",
    "trainer = pl.Trainer(\n",
    "#    weights_summary='full',\n",
    "#    overfit_batches=1,\n",
    "#    terminate_on_nan=False,\n",
    "#    gradient_clip_val=0.5,\n",
    "    max_epochs=max_epochs,\n",
    "    callbacks=[early_stop, lr_monitor],\n",
    "    logger=logger,\n",
    "    **configs['train']['trainer_kwargs'])"
   ]
  },
  {
   "cell_type": "code",
   "execution_count": null,
   "id": "dominant-pharmacology",
   "metadata": {},
   "outputs": [
    {
     "name": "stderr",
     "output_type": "stream",
     "text": [
      "Global seed set to 42\n"
     ]
    }
   ],
   "source": [
    "trainer.fit(model=model, datamodule=dm)"
   ]
  },
  {
   "cell_type": "code",
   "execution_count": null,
   "id": "finnish-saturday",
   "metadata": {},
   "outputs": [],
   "source": []
  }
 ],
 "metadata": {
  "kernelspec": {
   "display_name": "Python 3",
   "language": "python",
   "name": "python3"
  },
  "language_info": {
   "codemirror_mode": {
    "name": "ipython",
    "version": 3
   },
   "file_extension": ".py",
   "mimetype": "text/x-python",
   "name": "python",
   "nbconvert_exporter": "python",
   "pygments_lexer": "ipython3",
   "version": "3.8.6"
  }
 },
 "nbformat": 4,
 "nbformat_minor": 5
}
