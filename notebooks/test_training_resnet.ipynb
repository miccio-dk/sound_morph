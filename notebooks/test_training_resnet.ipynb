{
 "cells": [
  {
   "cell_type": "code",
   "execution_count": 1,
   "id": "closed-department",
   "metadata": {},
   "outputs": [],
   "source": [
    "%load_ext autoreload\n",
    "%autoreload 2"
   ]
  },
  {
   "cell_type": "code",
   "execution_count": 2,
   "id": "mobile-idaho",
   "metadata": {},
   "outputs": [
    {
     "name": "stderr",
     "output_type": "stream",
     "text": [
      "/home/rmicci18/miniconda3/envs/sound_morph/lib/python3.8/site-packages/torchaudio/backend/utils.py:53: UserWarning: \"sox\" backend is being deprecated. The default backend will be changed to \"sox_io\" backend in 0.8.0 and \"sox\" backend will be removed in 0.9.0. Please migrate to \"sox_io\" backend. Please refer to https://github.com/pytorch/audio/issues/903 for the detail.\n",
      "  warnings.warn(\n",
      "Global seed set to 42\n"
     ]
    },
    {
     "data": {
      "text/plain": [
       "42"
      ]
     },
     "execution_count": 2,
     "metadata": {},
     "output_type": "execute_result"
    }
   ],
   "source": [
    "import sys, os\n",
    "sys.path.append('..')\n",
    "\n",
    "import numpy as np\n",
    "import librosa as lr\n",
    "import torch\n",
    "import IPython.display as ipd\n",
    "import matplotlib.pyplot as plt\n",
    "import pytorch_lightning as pl\n",
    "\n",
    "from scipy.signal.windows import hann\n",
    "from pytorch_lightning.loggers import TensorBoardLogger\n",
    "from pytorch_lightning.callbacks import LearningRateMonitor, EarlyStopping\n",
    "\n",
    "from datasets.nsynth_datamodule import NsynthDataModule\n",
    "from models.cvae_resnet import CvaeResnet\n",
    "from models.cvae_inception import CvaeInception\n",
    "\n",
    "pl.seed_everything(42)"
   ]
  },
  {
   "cell_type": "code",
   "execution_count": 3,
   "id": "suited-desktop",
   "metadata": {},
   "outputs": [],
   "source": [
    "### CONFIGS\n",
    "\n",
    "model_type = 'resnet'\n",
    "num_workers = 8\n",
    "batch_size = 16\n",
    "max_epochs = 10000\n",
    "patience = 200\n",
    "gpus = 1\n",
    "\n",
    "ds_configs = {\n",
    "    'dataset_path': '/data/riccardo_datasets',\n",
    "    'feature': 'spec',\n",
    "    'feature_params': {\n",
    "        'win_length': 256,\n",
    "        'hop_length': 64,\n",
    "        'window': hann(256)\n",
    "    },\n",
    "    'n_fft': 510,\n",
    "    'ds_kwargs': {\n",
    "        'pitches': [60, 61, 62],\n",
    "        'instrument_families': [0],\n",
    "        'sr': 16000,\n",
    "        'duration': 1.02\n",
    "    }\n",
    "}\n",
    "\n",
    "m_configs_resnet = {\n",
    "    'lr': 1e-3,\n",
    "    'lr_scheduler': {\n",
    "        'factor': 0.5624, \n",
    "        'patience': 50,\n",
    "    },\n",
    "    'c_labels': ['pitch'],\n",
    "    'kl_coeff': 1e-4,\n",
    "    'db_coeff': 1e-3,\n",
    "    'latent_size': 32,\n",
    "    'channel_size': 2,\n",
    "    'input_height': 256,\n",
    "    'enc_type': 'resnet18',\n",
    "    'first_conv': False,\n",
    "    'maxpool1': False,\n",
    "    'enc_out_dim': 512,\n",
    "}"
   ]
  },
  {
   "cell_type": "code",
   "execution_count": 4,
   "id": "consolidated-flour",
   "metadata": {},
   "outputs": [],
   "source": [
    "# init data loader\n",
    "dm = NsynthDataModule(ds_configs, num_workers=num_workers, batch_size=batch_size)"
   ]
  },
  {
   "cell_type": "code",
   "execution_count": 5,
   "id": "indonesian-macedonia",
   "metadata": {},
   "outputs": [],
   "source": [
    "# pick model\n",
    "ModelClass = {\n",
    "    'resnet': CvaeResnet,\n",
    "    'incept': CvaeInception,\n",
    "}.get(model_type)\n",
    "\n",
    "m_configs = {\n",
    "    'resnet': m_configs_resnet,\n",
    "    'incept': m_configs_incept,\n",
    "}.get(model_type)"
   ]
  },
  {
   "cell_type": "code",
   "execution_count": 6,
   "id": "novel-petite",
   "metadata": {},
   "outputs": [],
   "source": [
    "# init model\n",
    "model = ModelClass(m_configs)"
   ]
  },
  {
   "cell_type": "code",
   "execution_count": 7,
   "id": "loaded-embassy",
   "metadata": {},
   "outputs": [],
   "source": [
    "# logger\n",
    "log_name = '{}_{}'.format(ModelClass.model_name, 'test_overfit')\n",
    "logger = TensorBoardLogger('logs', name=log_name)"
   ]
  },
  {
   "cell_type": "code",
   "execution_count": null,
   "id": "aboriginal-sacramento",
   "metadata": {},
   "outputs": [],
   "source": [
    "# callbacks\n",
    "early_stop = EarlyStopping(monitor='val_loss', patience=patience)\n",
    "lr_monitor = LearningRateMonitor(logging_interval='epoch')\n",
    "\n",
    "# train!\n",
    "trainer = pl.Trainer(\n",
    "    weights_summary='full',\n",
    "    max_epochs=max_epochs,\n",
    "    overfit_batches=1,\n",
    "#    callbacks=[early_stop],\n",
    "    terminate_on_nan=False,\n",
    "#    gradient_clip_val=0.5,\n",
    "    logger=logger,\n",
    "    gpus=gpus)\n",
    "trainer.fit(model=model, datamodule=dm)"
   ]
  },
  {
   "cell_type": "code",
   "execution_count": null,
   "id": "streaming-needle",
   "metadata": {},
   "outputs": [],
   "source": [
    "# callbacks\n",
    "lr_monitor = LearningRateMonitor(logging_interval='epoch')\n",
    "\n",
    "# train!\n",
    "trainer = pl.Trainer(\n",
    "    max_epochs=20000,\n",
    "    overfit_batches=1,\n",
    "    callbacks=[lr_monitor],\n",
    "    gpus=gpus)\n",
    "trainer.fit(model=model, datamodule=dm)"
   ]
  },
  {
   "cell_type": "code",
   "execution_count": null,
   "id": "organizational-framing",
   "metadata": {},
   "outputs": [],
   "source": [
    "trainer.max_epochs = 20000\n",
    "trainer.fit(model=model, datamodule=dm)"
   ]
  },
  {
   "cell_type": "code",
   "execution_count": null,
   "id": "coated-access",
   "metadata": {},
   "outputs": [],
   "source": []
  },
  {
   "cell_type": "code",
   "execution_count": null,
   "id": "chronic-point",
   "metadata": {},
   "outputs": [],
   "source": []
  }
 ],
 "metadata": {
  "kernelspec": {
   "display_name": "Python 3",
   "language": "python",
   "name": "python3"
  },
  "language_info": {
   "codemirror_mode": {
    "name": "ipython",
    "version": 3
   },
   "file_extension": ".py",
   "mimetype": "text/x-python",
   "name": "python",
   "nbconvert_exporter": "python",
   "pygments_lexer": "ipython3",
   "version": "3.8.6"
  }
 },
 "nbformat": 4,
 "nbformat_minor": 5
}
